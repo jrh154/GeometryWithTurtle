{
 "cells": [
  {
   "cell_type": "markdown",
   "id": "6957705e",
   "metadata": {},
   "source": [
    "# 3. Triangles Among Triangles Among Triangles!\n",
    "\n",
    "### Introduction\n",
    "\n",
    "In this lesson you will make a number of shapes based on L-Substitution rules and the Sierpinski Triangle. Using your programming knowledge you will be able to quickly generate images with hundreds instructions to explore the properties of this mathematical structures.\n",
    "\n",
    "## Running Some Initial Code\n",
    "\n",
    "Run the code below to initialize the libraries and functions we will use throughout the process. ***You will need to re-run this code EVERY time you RESTART the program***. It's worth reading through the code to see what it does, but you do not need to understand every line.\n"
   ]
  },
  {
   "cell_type": "code",
   "execution_count": null,
   "id": "694b516b",
   "metadata": {},
   "outputs": [],
   "source": [
    "import ipyturtle3 as turtle\n",
    "from ipyturtle3 import hold_canvas\n",
    "\n",
    "# This function constructs a new turtle for you to use!\n",
    "def newTurtle(width = 1000, height = 1000, bkg = \"white\", shape = 'turtle', speed = 5):\n",
    "    myCanvas = turtle.Canvas(width, height)\n",
    "    display(myCanvas)\n",
    "    myTS = turtle.TurtleScreen(myCanvas)\n",
    "    myTS.clear()\n",
    "    myTS.bgcolor(bkg)\n",
    "    t = turtle.Turtle(myTS)\n",
    "    t.shape(shape)\n",
    "    t.speed(5)\n",
    "    return t\n",
    "\n",
    "#This function will help run/iteriate drawing instructions through a list multiple times \n",
    "#It takes two inputs: turt (the name of your turtle) and turns (a list of turn instructions)\n",
    "#Written to use the Serpinski Triangle as is.\n",
    "def turnFunction(turt, turns, r_turn=60, l_turn=60, fx_len = 10, fy_len =10):\n",
    "    for t in turns:\n",
    "        if t == 'x':\n",
    "            turt.right(r_turn)\n",
    "            turt.forward(fx_len)\n",
    "        elif t == 'y':\n",
    "            turt.right(r_turn)\n",
    "            turt.foward(fy_len)\n",
    "        elif t == '-x':\n",
    "            turt.left(l_turn)\n",
    "            turt.forward(fx_len)\n",
    "        elif t == '-y':\n",
    "            turt.left(l_turn)\n",
    "            turt.forward(fy_len)\n",
    "\n",
    "#This function will generate a list of turns based on the Arrowhead Rules for the Serpinkski Triangle\n",
    "#It needs an integer input for the number of times to run the iteration. Optionally, you can change what starting list you use\n",
    "def serpinkskiGen(n, seed = ['x']):\n",
    "    for i in range(0, n):\n",
    "        output = []\n",
    "        #Modify this section for Expert Level Exercise 1\n",
    "        for d in seed:\n",
    "            if d == 'x':\n",
    "                output.append('y')\n",
    "                output.append('x')\n",
    "                output.append('y')\n",
    "            elif d == '-x':\n",
    "                output.append('-y')\n",
    "                output.append('x')\n",
    "                output.append('y')\n",
    "            elif d == 'y':\n",
    "                output.append('x')\n",
    "                output.append('-y')\n",
    "                output.append('-x')\n",
    "            elif d == '-y':\n",
    "                output.append('-x')\n",
    "                output.append('-y')\n",
    "                output.append('-x')\n",
    "        seed = output\n",
    "    return output"
   ]
  },
  {
   "cell_type": "markdown",
   "id": "1bb2d221",
   "metadata": {},
   "source": [
    "## Introduction: The Serpinski Triangle\n",
    "\n",
    "The [Serpinski Triangle](https://mathigon.org/course/fractals/sierpinski#:~:text=The%20Sierpinski%20triangle%20is%20a,removed%20from%20its%20remaining%20area.&text=It%20can%20be%20created%20by,triangles%20out%20of%20its%20center.) is a well-known fractal system which consists of repeating triangles. We can use our turtle system to draw our own version of the Serpinski Triangle! \n",
    "\n",
    "In this activity, we will use an [L-Substitution System](https://en.wikipedia.org/wiki/L-system) to make a version of the Serpinski triangle without ever needing to lift the pen from the page. \n",
    "\n",
    "Our system will consist of a seed (a starting point), characters (X & Y), instructions (+/-) and rules for how the instructions are iterated upon substition. Here:\n",
    "\n",
    "1.  The seed is ['x']\n",
    "2.  The characters are 'x' and 'y', which both mean move forward a given amount\n",
    "3.  The instructions are + (turn right) and - (turn left) a given number of degrees\n",
    "4.  Substition Rule 1: 'x' ---> 'y' + 'x' + 'y'\n",
    "5.  Substition Rule 2: 'y' ---> 'x' - 'y' - 'x'\n",
    "\n",
    "\n",
    "## Exercise 1: Generating Instruction Sets\n",
    "\n",
    "There are two new functions that will help you generate a Serpinski triangle in only a few lines of code!\n",
    "\n",
    "The first is the the `serpinksiGen` function. This function makes a `list` of turns/instructions that your turtle can use to draw the triangle. To use the function you will **need** to provide **a number of generations** to calculate. You may *optionally* add a seed. (By default the seed is \\['x'\\]).   \n",
    "\n",
    "Here is an example call of the serpinskiGen code. Try running it to see what happens."
   ]
  },
  {
   "cell_type": "code",
   "execution_count": null,
   "id": "40dc1db0",
   "metadata": {},
   "outputs": [],
   "source": [
    "turns = serpinkskiGen(2)\n",
    "print(turns)"
   ]
  },
  {
   "cell_type": "markdown",
   "id": "72c52084",
   "metadata": {},
   "source": [
    "The code above will make a set of instructions to draw a Serpinkski Arrowhead using two substitution iterations (this is also called the generation number).\n",
    "\n",
    "### Basic Level\n",
    "\n",
    "Generate three sets of Serpinski instructions. One for 2 generations, one for 5 generations, and one for 10 generations. Print your results for each set. \n",
    "\n",
    "### Advanced Level\n",
    "\n",
    "Generate the three sets required above. In addition, generate two sets of 5th generation instructions that use non-default seeds. (Note that entries in your list are *separated by commas* and must be `strings` that are either 'y', 'x', '-y', or '-x'. All `strings` must be in either single or double quote marks (`' '` or `\" \"`)\n",
    "\n",
    "### Expert Level\n",
    "\n",
    "Complete the Beginner and Advanced levels. Then, create a modified version of the serpinkskiGen function called serpinkskiGenMod that will generate instructions for one of the examples listed on the [L-System wikipedia page](https://en.wikipedia.org/wiki/L-system)."
   ]
  },
  {
   "cell_type": "code",
   "execution_count": null,
   "id": "9b2c0d1f",
   "metadata": {},
   "outputs": [],
   "source": [
    "### Write your code for Exercise 1 below:\n",
    "\n"
   ]
  },
  {
   "cell_type": "markdown",
   "id": "837b0403",
   "metadata": {},
   "source": [
    "## Exercise 2: Running Your instructions\n",
    "\n",
    "You should now have a list of instructions for your turtle to follow. The next step is to use this list of instructions to make your turtle do something! To help you with this, you can use the `turnFunction`. The `turnFunction` requires you to pass two arguments:\n",
    "\n",
    "1. The name of the turtle\n",
    "2. The list of instructions to follow\n",
    "\n",
    "An example of how to implement in the code is given below. Try running the code to see what happens!"
   ]
  },
  {
   "cell_type": "code",
   "execution_count": null,
   "id": "d7df1d10",
   "metadata": {},
   "outputs": [],
   "source": [
    "bob = newTurtle(width = 400, height = 400)\n",
    "instructions = ['x','x','x','x','x','x']\n",
    "turnFunction(bob, instructions)"
   ]
  },
  {
   "cell_type": "markdown",
   "id": "2d82a8c3",
   "metadata": {},
   "source": [
    "In the above code, `bob` was the name of the turtle used and `instructions` was the list constaining the instructions to follow. You should use the variable names for the instruction sets you generated in Ex. 1 for your own work.\n",
    "\n",
    "In addition, `turnFunction` can take several more arguments which can be modified for more interesting results:\n",
    "   1. r_turn: The amount to turn right (in degrees); by default = 60\n",
    "   2. l_turn: The amount to turn left (in degrees); by default = 60\n",
    "   3. fx_len: The amount to move forward for an 'x' instruction; by default = 10\n",
    "   4. fy_len: The amount to move forward for a 'y' instruction; by default = 10\n",
    "   \n",
    "### Basic Level\n",
    "\n",
    "Use the `turnFunction` to generate images from the instruction sets you created in Ex. 1. Upload screenshots of your code and images generated in your Google Doc.\n",
    "\n",
    "***Note: You will likely want to move your turtle to the top right portion of your screen before running turnFunction. Use the `penup()`, `setpos()`, and `pendown()`***\n",
    "\n",
    "***Another note: You can change the size of the drawing window by adding the arguments height and width in newTurtle. For example: `bob = newTurtle(width=1500, height=2000`***\n",
    "\n",
    "### Advanced Level\n",
    "\n",
    "Complete the basic level. Then use the `turnFunction` parameters to vary the angles of turn, keeping both the left and right turn angles the same. Report your results using screenshots in your Google Doc.\n",
    "\n",
    "### Expert Level\n",
    "\n",
    "Complete the basic and advanced level. Then generate images where the r_turn, l_turn, fx_len, and fy_len are all modified. See what patterns you can make. Report your results as screenshots in your Google Doc."
   ]
  },
  {
   "cell_type": "code",
   "execution_count": null,
   "id": "a9e5bfba",
   "metadata": {},
   "outputs": [],
   "source": [
    "### Write your code for Exercise 2 below:\n",
    "\n"
   ]
  },
  {
   "cell_type": "markdown",
   "id": "672d7595",
   "metadata": {},
   "source": [
    "## Exercise 3\n",
    "\n",
    "### All Levels\n",
    "\n",
    "Complet an investigation where you change one variable or set of set of variables (ex. seed, generation number, turn angle, etc.) for your Serpinkski images. Identify systemic changes/patterns has you change this variable. Report your results using words and image screenshots."
   ]
  },
  {
   "cell_type": "code",
   "execution_count": null,
   "id": "1160bcca",
   "metadata": {},
   "outputs": [],
   "source": [
    "### Write your code for Exercise 3 below:\n",
    "\n"
   ]
  }
 ],
 "metadata": {
  "kernelspec": {
   "display_name": "Python 3 (ipykernel)",
   "language": "python",
   "name": "python3"
  },
  "language_info": {
   "codemirror_mode": {
    "name": "ipython",
    "version": 3
   },
   "file_extension": ".py",
   "mimetype": "text/x-python",
   "name": "python",
   "nbconvert_exporter": "python",
   "pygments_lexer": "ipython3",
   "version": "3.9.7"
  }
 },
 "nbformat": 4,
 "nbformat_minor": 5
}
