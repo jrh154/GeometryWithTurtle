{
 "cells": [
  {
   "cell_type": "markdown",
   "id": "ae66b4e1",
   "metadata": {},
   "source": [
    "# 1. INTRODUCTION TO DRAWING WITH TURTLE\n",
    "\n",
    "### What is Turtle?\n",
    "\n",
    "Turtle is a software program that allows you to draw simple pictures by commanding a \"virtual turtle\" to move around a coordinate plane. The turtle relies on some simple commands such as forward, reverse, turn left, and turn right to create different shapes and patterns. \n",
    "\n",
    "\n",
    "### How to Use This File\n",
    "\n",
    "You will write turtle programs to draw different patterns. The file consists of different *Cells* that run snippets of code. To run a snippet of code you can press the Run button above or select the cell you want to run and push `Ctrl+Enter`. \n",
    "\n",
    "**Begin by running the cell below**"
   ]
  },
  {
   "cell_type": "code",
   "execution_count": null,
   "id": "00158005",
   "metadata": {},
   "outputs": [],
   "source": [
    "#Click on the cell here \n",
    "\n",
    "#And then press Ctrl+Enter or the Run Button on the toolbar\n",
    "print(\"Hooray! You Ran a Cell!\")"
   ]
  },
  {
   "cell_type": "markdown",
   "id": "320d80e1",
   "metadata": {},
   "source": [
    "### Congratuations!\n",
    "\n",
    "If it says \"Hooray! You Ran a Cell\" after the cell, you did it! You've run your first bit of code. Well done!\n",
    "\n",
    "### Continuing Your Turtle Journey\n",
    "\n",
    "The turtle code works by instructing the turtle to either move forward or backward given amount, or turn left or right by a given number of degrees. In each cell we will use a new variable for each turtle. You can think of this as ***giving your turtle a name***. For example, we could start our code with:\n",
    "\n",
    "`timmy = Turtle()`\n",
    "\n",
    "Here, we are telling the program that our turtle's name is timmy. Note that names are **case sensitive**. That is, `timmy` is **not** the same as `Timmy`\n",
    "\n",
    "To make our turtle do a given action, we will write the name of the turtle followed by `.` and the action we want the turtle to take. Read the code below and make a prediction on what will happen. Then run the code!\n",
    "\n"
   ]
  },
  {
   "cell_type": "code",
   "execution_count": null,
   "id": "83c93d5a",
   "metadata": {},
   "outputs": [],
   "source": [
    "from mobilechelonian import Turtle #this line is coding jargon to add code for our Turtle and can be ignored for now\n",
    "\n",
    "timmy = Turtle()\n",
    "timmy.forward(100)\n",
    "timmy.right(90)\n",
    "timmy.forward(50)"
   ]
  },
  {
   "cell_type": "markdown",
   "id": "b9ff0cba",
   "metadata": {},
   "source": [
    "### Reading the Code\n",
    "Here's how the code works, line by line:\n",
    "\n",
    "`timmy = Turtle()` creates a turtle named Timmy\n",
    "\n",
    "`timmy.forward(100)` makes our turtle move forward 100 units\n",
    "\n",
    "`timmy.right(90)` makes the turtle turn right 90 degrees\n",
    "\n",
    "`timmy.forward(50)` makes the turtle move forward 50 units\n",
    "\n",
    "You can find a full list of the possible commands for your turtle by running the cell below"
   ]
  },
  {
   "cell_type": "code",
   "execution_count": null,
   "id": "cff022d7",
   "metadata": {},
   "outputs": [],
   "source": [
    "### Run this cell to see the full list of options for your Turtle\n",
    "### The Methods section is particularly useful\n",
    "\n",
    "help(Turtle)"
   ]
  },
  {
   "cell_type": "markdown",
   "id": "a69db2c4",
   "metadata": {},
   "source": [
    "# Exercise 1 - It's Hip to Be Square\n",
    "\n",
    "### Basic Level\n",
    "\n",
    "Write code that makes a turtle draw a square in the cell below. Upload a screenshot of your code and drawing in your Google Doc.\n",
    "\n",
    "### Advanced Level\n",
    "\n",
    "Draw your square in Red Ink\n",
    "\n",
    "### Expert Level\n",
    "\n",
    "Draw your square four different coloured sides. \n",
    "\n"
   ]
  },
  {
   "cell_type": "code",
   "execution_count": null,
   "id": "8f0a9eff",
   "metadata": {},
   "outputs": [],
   "source": [
    "from mobilechelonian import Turtle #DO NOT CHANGE THIS LINE!\n",
    "\n",
    "### Write your code for Exercise 1 below:\n"
   ]
  },
  {
   "cell_type": "markdown",
   "id": "1282d519",
   "metadata": {},
   "source": [
    "# Exercise 2 - I Love Triangles\n",
    "\n",
    "### Basic Level\n",
    "\n",
    "Write code that makes a turtle draw an equilateral triangle in the cell below. Upload a screenshot of your code and drawing in your Google Doc.\n",
    "\n",
    "### Advanced Level\n",
    "\n",
    "Draw each side of the triangle using different colours\n",
    "\n",
    "### Expert Level\n",
    "\n",
    "Draw an equilateral triangle using blue ink, and a right triangle using red ink on the same picture. "
   ]
  },
  {
   "cell_type": "code",
   "execution_count": null,
   "id": "0a9c99cc",
   "metadata": {},
   "outputs": [],
   "source": [
    "from mobilechelonian import Turtle #DO NOT CHANGE THIS LINE!\n",
    "\n",
    "### Write Your Exercise 2 Code Below:\n"
   ]
  },
  {
   "cell_type": "markdown",
   "id": "8a53a58a",
   "metadata": {},
   "source": [
    "# Exercise 3 - Casting Hex(agon)s\n",
    "\n",
    "### Basic Level\n",
    "\n",
    "Write code that makes your turtle draw a regular hexagon in the cell below. (Regular shapes have sides with the same length.) Upload a screenshot of your code and drawing in Google Doc.\n",
    "\n",
    "### Advanced Level\n",
    "\n",
    "Divide your hexagon into 6 equilateral triangles using different colours for the perimeter and interior triangles\n",
    "\n",
    "### Expert Level\n",
    "\n",
    "Draw both a regular hexagon and an irregular hexagon."
   ]
  },
  {
   "cell_type": "code",
   "execution_count": null,
   "id": "3ca941cf",
   "metadata": {},
   "outputs": [],
   "source": [
    "from mobilechelonian import Turtle #DO NOT CHANGE THIS LINE!\n",
    "\n",
    "### Write Your Exercise 3 Code Below:\n"
   ]
  },
  {
   "cell_type": "markdown",
   "id": "3c353a27",
   "metadata": {},
   "source": [
    "# Exercise 4 - Free Draw\n",
    "\n",
    "### All Levels\n",
    "\n",
    "Draw a picture using your new knowledge of the Turtle library below! Extra points for creativity! Upload a screenshot of your code and drawing in Google Doc."
   ]
  },
  {
   "cell_type": "code",
   "execution_count": null,
   "id": "fdd19546",
   "metadata": {},
   "outputs": [],
   "source": [
    "from mobilechelonian import Turtle #DO NOT CHANGE THIS LINE!\n",
    "\n",
    "### Write your Exercise 4 Code Below:\n",
    "\n"
   ]
  }
 ],
 "metadata": {
  "kernelspec": {
   "display_name": "Python 3 (ipykernel)",
   "language": "python",
   "name": "python3"
  },
  "language_info": {
   "codemirror_mode": {
    "name": "ipython",
    "version": 3
   },
   "file_extension": ".py",
   "mimetype": "text/x-python",
   "name": "python",
   "nbconvert_exporter": "python",
   "pygments_lexer": "ipython3",
   "version": "3.9.7"
  }
 },
 "nbformat": 4,
 "nbformat_minor": 5
}
