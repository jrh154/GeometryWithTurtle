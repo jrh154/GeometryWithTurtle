{
 "cells": [
  {
   "cell_type": "markdown",
   "id": "03ced79a",
   "metadata": {},
   "source": [
    "# 2. SPIRALING OUT OF CONTROL\n",
    "\n",
    "### Lesson Objectives\n",
    "\n",
    "In this lesson you will investigate how you can use the Turtle tool to generate patterns that change over time. To do this you will use `for loops` to simplify your code, allowing you to draw thousands of lines in only a few lines of code!\n",
    "\n",
    "### A New Turtle Frontier\n",
    "\n",
    "In the last lesson we used a simplified version of the Turtle library. Unfortunately, this version is not powerful enough to help us with our investigations. Instead, we will use a new library called IPyTurtle. While it has some header code that is more complex, the basic functions are still the same. \n",
    "\n",
    "Full documentation for the new implementation can be found by [clicking here](https://docs.python.org/3/library/turtle.html#:~:text=Turtle%20graphics%20is%20a%20popular%20way%20for%20introducing%20programming%20to%20kids.&text=The%20turtle%20module%20is%20an,\\)%20100%25%20compatible%20with%20it.)\n",
    "\n",
    "### New Beginnings\n",
    "\n",
    "We will begin by initializing the library. To do this, `Run` the code below."
   ]
  },
  {
   "cell_type": "code",
   "execution_count": null,
   "id": "586c3f56",
   "metadata": {},
   "outputs": [],
   "source": [
    "import ipyturtle3 as turtle\n",
    "from ipyturtle3 import hold_canvas\n",
    "\n",
    "def newTurtle(width = 500, height = 500, bkg = \"white\", shape = 'turtle', speed = 5):\n",
    "    myCanvas = turtle.Canvas(width, height)\n",
    "    display(myCanvas)\n",
    "    myTS = turtle.TurtleScreen(myCanvas)\n",
    "    myTS.clear()\n",
    "    myTS.bgcolor(bkg)\n",
    "    t = turtle.Turtle(myTS)\n",
    "    t.shape(shape)\n",
    "    t.speed(5)\n",
    "    return t\n",
    "    "
   ]
  },
  {
   "cell_type": "markdown",
   "id": "70cc084a",
   "metadata": {},
   "source": [
    "## Exercise 1: Making a Turtle\n",
    "\n",
    "Making a new turtle to program with is similar to how we did it before. To make your turtle, use the following code (as before, you may use any name you wish):\n",
    "\n",
    "`gerald = newTurtle()`\n",
    "\n",
    "What is new here is that when you make the turtle you can use different settings, called `arguments`. `arguments` are used in programming when you do not know what will be the **input** of your function. As an analogy, in algebra we typically call `arguments` *variables*, such as *x*. In fact, you've already been using arguments! When you tell your turtle to move forward, you are passing an `argument` telling it how far to move! \n",
    "\n",
    "To make your turtle, you will need to use the `newTurtle()` function. The `newTurtle` function can take several `arguments` such as window width (`width`), background color (`bkg`) and the shape used for your turtle. The default settings are shown in the code you ran above! For instance, the default background color is White (`bkg = \"White`) and the default window width is 500 pixels (`width = 500`).\n",
    "\n",
    "To set these parameters, put the `arguments` you want to set in the parentheses () of the argument. For example, to set the background color to light green and the turtle shape to an arrow, you would create your turtle as follows:\n",
    "\n",
    "`barry = newTurtle(shape = 'arrow', bkg = 'lightgreen')`\n",
    "\n",
    "*Pro Tip: Be sure to use ' ' marks when adding word arguments\n",
    "\n",
    "### Basic Level\n",
    "\n",
    "Write code that makes a turtle and draws a triangle. Upload a screenshot of your code and drawing in your Google Doc.\n",
    "\n",
    "### Advanced Level\n",
    "\n",
    "Change your turtle into square and make the background colour light blue.\n",
    "\n",
    "### Expert Level\n",
    "\n",
    "Change your turtle into an arrow, make the background colour green, and resize the window to 1000 x 600 pixels. \n",
    "\n"
   ]
  },
  {
   "cell_type": "code",
   "execution_count": null,
   "id": "6cc86869",
   "metadata": {},
   "outputs": [],
   "source": [
    "### Write Your Exercise 1 Code Below\n",
    "\n"
   ]
  },
  {
   "cell_type": "markdown",
   "id": "db273c03",
   "metadata": {},
   "source": [
    "## Exercise 2: Looper!\n",
    "\n",
    "By this point you are in expert in the ways of the turtle. But you may have found it tedious and boring to write so many lines of repetitive code just to draw a square! \n",
    "\n",
    "Fortunately, we can use a tool called a `loop` to help us code repetitive tasks. While there are many types of loops, we will focus only on `for loops` for now.\n",
    "\n",
    "A `for loop` is shown below. Read the code and make a prediction: What do you think will happen when you run the code? After you've made your prediction go ahead and run the code!"
   ]
  },
  {
   "cell_type": "code",
   "execution_count": null,
   "id": "b9744b15",
   "metadata": {},
   "outputs": [],
   "source": [
    "for i in range(0,5):\n",
    "    print(\"This is the %s time throught the loop\" %i)"
   ]
  },
  {
   "cell_type": "markdown",
   "id": "31555eb7",
   "metadata": {},
   "source": [
    "The loop above ran the code to `print` a line of text 5 times! Note that the spacing is important! All loops ***MUST END WITH A `:`*** and the lines of the loop ***must be indented***. \n",
    "\n",
    "In the context of Turtle drawing, for loops can help us make shapes with only a few lines of code. Consider the following code which can be used to draw a triangle: "
   ]
  },
  {
   "cell_type": "code",
   "execution_count": null,
   "id": "3135febb",
   "metadata": {},
   "outputs": [],
   "source": [
    "terry = newTurtle()\n",
    "\n",
    "for i in range(0,3):\n",
    "    terry.forward(100)\n",
    "    terry.left(120)"
   ]
  },
  {
   "cell_type": "markdown",
   "id": "7bc7d997",
   "metadata": {},
   "source": [
    "Again, remember to tab all lines of your loop! There is a lot more complexity to loops, and learning to use them effectively is an important part of programming. But we've covered enough for now! On to the exercises!\n",
    "\n",
    "### Basic Level\n",
    "\n",
    "Write a loop that can be used to draw a square. Upload a screenshot of your code and drawing in your Google Doc.\n",
    "\n",
    "###  Advanced Level\n",
    "\n",
    "Write a loop that can draw a square spiral pattern where each side gets bigger by 20 pixels.\n",
    "\n",
    "### Expert Level\n",
    "\n",
    "Write a loop that can draw an octagon where the sides alternate between blue and green."
   ]
  },
  {
   "cell_type": "code",
   "execution_count": null,
   "id": "6dcb91af",
   "metadata": {},
   "outputs": [],
   "source": [
    "### Write your code for Exercise 2 below\n",
    "\n",
    "\n"
   ]
  },
  {
   "cell_type": "markdown",
   "id": "c829bd60",
   "metadata": {},
   "source": [
    "## Exercise 3: Making Spirals\n",
    "\n",
    "Finally! You now have the coding knowledge to make things get interesting! \n",
    "\n",
    "One of the interesting things we can do is write a program where we vary the amount our turtle turns each loop. This can lead to some surprising results! \n",
    "\n",
    "As a starting place, let's have our turtle turn by a set angle (theta) by the number of times it's been through a loop. In math/code terms:\n",
    "\n",
    "`turn = theta*loop_number`\n",
    "\n",
    "In more concrete terms, if theta = 3 deg, then the turtle would turn 12 degrees on the 4th iteration of the loop (3 * 4 = 12).\n",
    "\n",
    "An old friend appears if we let theta = 1 deg. Try running the code below to see what happens!"
   ]
  },
  {
   "cell_type": "code",
   "execution_count": null,
   "id": "127be962",
   "metadata": {},
   "outputs": [],
   "source": [
    "barry = newTurtle(speed = 0)\n",
    "theta = 1\n",
    "\n",
    "for i in range(0,360):\n",
    "    barry.forward(10)\n",
    "    barry.right(i*theta)\n"
   ]
  },
  {
   "cell_type": "markdown",
   "id": "7652d12b",
   "metadata": {},
   "source": [
    "Yup! It's an Euler spiral! (Just like peeling an orange!) What would happen if you set theta to a different value though?\n",
    "\n",
    "### Basic Level\n",
    "Write code that will draw the shape formed when theta = 1.01, 1.03, 1.08 and 2 (run separate tests for each). Make sure you take at least 1000 steps. Upload screenshots of your code and drawings in your Google Doc.\n",
    "\n",
    "### Advanced Level\n",
    "Write code that will draw the shape formed when there are 10000 steps. Set tracer to false to speed up the code generation. Ensure that you capture the entire pattern formed!\n",
    "\n",
    "### Expert Level\n",
    "Write code that will draw the shapes formed and changes color as the turtle progresses. Ensure that you capture the entire pattern formed!"
   ]
  },
  {
   "cell_type": "code",
   "execution_count": null,
   "id": "45462c32",
   "metadata": {},
   "outputs": [],
   "source": [
    "### Write your code for Exercise 2 below\n"
   ]
  },
  {
   "cell_type": "code",
   "execution_count": null,
   "id": "07d96dcb",
   "metadata": {},
   "outputs": [],
   "source": [
    "'''\n",
    "Speed Mode! You can use this snippet of code instead if you'd like to skip the animation.\n",
    "This is useful when doing many iterations of your code.\n",
    "'''\n",
    "\n",
    "###Don't change the code below\n",
    "import ipyturtle3 as turtle\n",
    "from ipyturtle3 import hold_canvas\n",
    "\n",
    "#You Can change the Canvas width and height and background colour\n",
    "myCanvas = turtle.Canvas(width = 1000, height = 1050)\n",
    "display(myCanvas)\n",
    "myTS = turtle.TurtleScreen(myCanvas)\n",
    "myTS.clear()\n",
    "myTS.bgcolor(\"white\")\n",
    "myTS.tracer(False)\n",
    "\n",
    "# Make a turtle here (only change the name)\n",
    "bob = turtle.Turtle(myTS)\n",
    "\n",
    "#Write your drawing code below!\n",
    "\n",
    "\n",
    "#Do not change this line\n",
    "myTS.tracer(True)"
   ]
  },
  {
   "cell_type": "markdown",
   "id": "adeb0069",
   "metadata": {},
   "source": [
    "## Exercise 4: Spiro-graphics!\n",
    "\n",
    "You can another set of shapes, still based off the Euler spiral, by making a small change in your code. Instead of multiplying by the iteration number (i), try adding by the iteration number. That is,  your turtle should turn `theta + i` degrees. \n",
    "\n",
    "### Basic Level\n",
    "Generate the patterns for theta = 1.01, 1.07, 1.09. Make sure you take at least 1000 steps. Upload screenshots of yoru code and drawings in your Google Doc.\n",
    "\n",
    "### Advanced Level\n",
    "Write code that will draw the shape formed for all possilibites between 1.01 and 1.o9 using different colors for each line. Upload sreenshots of your drawings. Ensure you capture the entire pattern formed\n",
    "\n",
    "### Expert Level\n",
    "Write code that will draw the shapes formed and changes color as the turtle progresses. Ensure that you capture the entire pattern formed!"
   ]
  },
  {
   "cell_type": "code",
   "execution_count": null,
   "id": "317b340c",
   "metadata": {},
   "outputs": [],
   "source": [
    "### Write your code for Exercise 4 below\n",
    "\n"
   ]
  },
  {
   "cell_type": "markdown",
   "id": "e642817a",
   "metadata": {},
   "source": [
    "## Exercise 5: Draw a Cool Picture!\n",
    "\n",
    "### All Levels\n",
    "Use your newfound knowledge to draw the coolest picture you can. You may wish to use the SpeedMode to make drawing quicker. Upload screenshots of your code and drawings in your Google Doc."
   ]
  },
  {
   "cell_type": "code",
   "execution_count": null,
   "id": "6f6801c0",
   "metadata": {},
   "outputs": [],
   "source": [
    "### Write your code for Exercise 5 below\n",
    "\n"
   ]
  }
 ],
 "metadata": {
  "kernelspec": {
   "display_name": "Python 3 (ipykernel)",
   "language": "python",
   "name": "python3"
  },
  "language_info": {
   "codemirror_mode": {
    "name": "ipython",
    "version": 3
   },
   "file_extension": ".py",
   "mimetype": "text/x-python",
   "name": "python",
   "nbconvert_exporter": "python",
   "pygments_lexer": "ipython3",
   "version": "3.9.7"
  }
 },
 "nbformat": 4,
 "nbformat_minor": 5
}
